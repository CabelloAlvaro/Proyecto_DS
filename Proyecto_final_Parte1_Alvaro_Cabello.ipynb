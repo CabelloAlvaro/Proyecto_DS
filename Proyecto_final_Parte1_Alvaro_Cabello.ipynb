{
 "cells": [
  {
   "attachments": {},
   "cell_type": "markdown",
   "id": "ac09ae1e",
   "metadata": {},
   "source": [
    "### Contexto informe\n",
    "\n",
    "Contexto análitico: Se trata de un conjunto de datos transnacionales que contiene todas las transacciones que se produjeron entre el 12/01/2010 y el 12/09/2011 para una tienda minorista en línea registrada y con sede en el Reino Unido. La empresa vende principalmente regalos únicos para toda ocasión. Muchos clientes de la empresa son mayoristas. Las transacciones están agrupadas a nivel de boleta, cada boleta tiene distintos productos, con descripcón, cantidad comprada, fecha de compra, el precio por unidad, el cliente y el pais donde fue comprado.\n",
    "\n",
    "Contexto comercial: el quiebre de stock, la rotación de productos y los skus inmovilizados son indicadores claves para gestionar el inventario de una tienda. Si estos indicadores no son los óptimos, la empresa puede perder ventas ponteciales y por lo tanto dejar de percibir ingresos. Además, estar sobre stockeado en productos que no tienen rotación, genera que los skus estén inmovilizados y es dinero que podría estar invertido de otra forma generando más rentabilidad (costo de oportunidad). Dado la anterior, es importante entender la demanda por productos para poder realizar una buena gestión de inventarios.\n",
    "\n",
    "Problema comercial: El cuando comprar y cuanto comprar son 2 problemas claves para las empresas de retail, ya que el costo de bodegaje, transporte y de oportundidad es elevado y genera pérdida por merma, costos logísticos y perdida potencial de venta. Por lo tanto, es necesario analizar que variables influyen en la demanda de los consumidores y predecir cuanto comprar y en que momento para minimizar los costos lógisticos y maximizar la venta, es decir, maximizar la utilidad.\n",
    "\n",
    "Objetivo: Analizar los datos y encontrar información relevante para luego predecir en que momento y cuanto comprar con algoritmos que permitan estimar la demanda futura.\n",
    "\n",
    "Hipótesis:\n",
    "1.- La demanda de los meses anteriores es la variable más significativa para predecir la demanda futura\n",
    "2.- Dentro de la demanda existe estacionalidad, es decir que los productos tienene más demanda dependiendo del periodo de tiempo que se esté analizado.\n",
    "3.- Los productos de mayor valor son los que menos rotan (tienen menos venta respecto a su costo) y los de menor valor los que más rotan\n",
    "4.- Los clientes compran productos similares a lo largo del tiempo (Cliente recurrente compra los mismos productos)\n",
    "\n",
    "Variables:\n",
    "- RowNumber: Número de filas del conjunto de datos\n",
    "- InvoiceNo: identificador único de la boleta/factura de la venta realizada\n",
    "- StockCode: Identificador único de los productos\n",
    "- Description: descripción de cada producto\n",
    "- Quantity: Cantidad vendida del producto\n",
    "- InvociceDate: Fecha en que se generó la boleta/venta\n",
    "- UnitPrice: precio del producto vendido\n",
    "- CustomerID: identificador único de los clientes\n",
    "- Country: País donde fue generada la venta"
   ]
  },
  {
   "cell_type": "code",
   "execution_count": 34,
   "id": "67783fbe",
   "metadata": {},
   "outputs": [],
   "source": [
    "import numpy as np \n",
    "import pandas as pd \n",
    "pd.set_option('display.float_format', '{:.2f}'.format)\n",
    "pd.set_option('display.max_rows', 100)\n",
    "\n",
    "import warnings\n",
    "warnings.filterwarnings(\"ignore\")\n",
    "\n",
    "import matplotlib.pyplot as plt\n",
    "%matplotlib inline\n",
    "import seaborn as sns\n",
    "sns.set_style('darkgrid')\n",
    "import plotly.express as px\n",
    "from plotly.subplots import make_subplots\n",
    "import plotly.graph_objs as go\n",
    "\n",
    "from sklearn.model_selection import train_test_split\n",
    "from sklearn.model_selection import GridSearchCV\n",
    "from sklearn.metrics import mean_squared_error\n",
    "from sklearn.preprocessing import LabelEncoder\n",
    "\n",
    "from sklearn.neighbors import KNeighborsRegressor\n",
    "from sklearn.ensemble import RandomForestRegressor\n",
    "from catboost import CatBoostRegressor, Pool\n",
    "from sklearn.cluster import KMeans"
   ]
  },
  {
   "cell_type": "code",
   "execution_count": 35,
   "id": "98f51d74",
   "metadata": {},
   "outputs": [
    {
     "data": {
      "text/html": [
       "<div>\n",
       "<style scoped>\n",
       "    .dataframe tbody tr th:only-of-type {\n",
       "        vertical-align: middle;\n",
       "    }\n",
       "\n",
       "    .dataframe tbody tr th {\n",
       "        vertical-align: top;\n",
       "    }\n",
       "\n",
       "    .dataframe thead th {\n",
       "        text-align: right;\n",
       "    }\n",
       "</style>\n",
       "<table border=\"1\" class=\"dataframe\">\n",
       "  <thead>\n",
       "    <tr style=\"text-align: right;\">\n",
       "      <th></th>\n",
       "      <th>InvoiceNo</th>\n",
       "      <th>StockCode</th>\n",
       "      <th>Description</th>\n",
       "      <th>Quantity</th>\n",
       "      <th>InvoiceDate</th>\n",
       "      <th>UnitPrice</th>\n",
       "      <th>CustomerID</th>\n",
       "      <th>Country</th>\n",
       "    </tr>\n",
       "  </thead>\n",
       "  <tbody>\n",
       "    <tr>\n",
       "      <th>0</th>\n",
       "      <td>536365</td>\n",
       "      <td>85123A</td>\n",
       "      <td>WHITE HANGING HEART T-LIGHT HOLDER</td>\n",
       "      <td>6</td>\n",
       "      <td>12/1/2010 8:26</td>\n",
       "      <td>2.55</td>\n",
       "      <td>17850.00</td>\n",
       "      <td>United Kingdom</td>\n",
       "    </tr>\n",
       "    <tr>\n",
       "      <th>1</th>\n",
       "      <td>536365</td>\n",
       "      <td>71053</td>\n",
       "      <td>WHITE METAL LANTERN</td>\n",
       "      <td>6</td>\n",
       "      <td>12/1/2010 8:26</td>\n",
       "      <td>3.39</td>\n",
       "      <td>17850.00</td>\n",
       "      <td>United Kingdom</td>\n",
       "    </tr>\n",
       "    <tr>\n",
       "      <th>2</th>\n",
       "      <td>536365</td>\n",
       "      <td>84406B</td>\n",
       "      <td>CREAM CUPID HEARTS COAT HANGER</td>\n",
       "      <td>8</td>\n",
       "      <td>12/1/2010 8:26</td>\n",
       "      <td>2.75</td>\n",
       "      <td>17850.00</td>\n",
       "      <td>United Kingdom</td>\n",
       "    </tr>\n",
       "    <tr>\n",
       "      <th>3</th>\n",
       "      <td>536365</td>\n",
       "      <td>84029G</td>\n",
       "      <td>KNITTED UNION FLAG HOT WATER BOTTLE</td>\n",
       "      <td>6</td>\n",
       "      <td>12/1/2010 8:26</td>\n",
       "      <td>3.39</td>\n",
       "      <td>17850.00</td>\n",
       "      <td>United Kingdom</td>\n",
       "    </tr>\n",
       "    <tr>\n",
       "      <th>4</th>\n",
       "      <td>536365</td>\n",
       "      <td>84029E</td>\n",
       "      <td>RED WOOLLY HOTTIE WHITE HEART.</td>\n",
       "      <td>6</td>\n",
       "      <td>12/1/2010 8:26</td>\n",
       "      <td>3.39</td>\n",
       "      <td>17850.00</td>\n",
       "      <td>United Kingdom</td>\n",
       "    </tr>\n",
       "    <tr>\n",
       "      <th>5</th>\n",
       "      <td>536365</td>\n",
       "      <td>22752</td>\n",
       "      <td>SET 7 BABUSHKA NESTING BOXES</td>\n",
       "      <td>2</td>\n",
       "      <td>12/1/2010 8:26</td>\n",
       "      <td>7.65</td>\n",
       "      <td>17850.00</td>\n",
       "      <td>United Kingdom</td>\n",
       "    </tr>\n",
       "    <tr>\n",
       "      <th>6</th>\n",
       "      <td>536365</td>\n",
       "      <td>21730</td>\n",
       "      <td>GLASS STAR FROSTED T-LIGHT HOLDER</td>\n",
       "      <td>6</td>\n",
       "      <td>12/1/2010 8:26</td>\n",
       "      <td>4.25</td>\n",
       "      <td>17850.00</td>\n",
       "      <td>United Kingdom</td>\n",
       "    </tr>\n",
       "    <tr>\n",
       "      <th>7</th>\n",
       "      <td>536366</td>\n",
       "      <td>22633</td>\n",
       "      <td>HAND WARMER UNION JACK</td>\n",
       "      <td>6</td>\n",
       "      <td>12/1/2010 8:28</td>\n",
       "      <td>1.85</td>\n",
       "      <td>17850.00</td>\n",
       "      <td>United Kingdom</td>\n",
       "    </tr>\n",
       "    <tr>\n",
       "      <th>8</th>\n",
       "      <td>536366</td>\n",
       "      <td>22632</td>\n",
       "      <td>HAND WARMER RED POLKA DOT</td>\n",
       "      <td>6</td>\n",
       "      <td>12/1/2010 8:28</td>\n",
       "      <td>1.85</td>\n",
       "      <td>17850.00</td>\n",
       "      <td>United Kingdom</td>\n",
       "    </tr>\n",
       "    <tr>\n",
       "      <th>9</th>\n",
       "      <td>536367</td>\n",
       "      <td>84879</td>\n",
       "      <td>ASSORTED COLOUR BIRD ORNAMENT</td>\n",
       "      <td>32</td>\n",
       "      <td>12/1/2010 8:34</td>\n",
       "      <td>1.69</td>\n",
       "      <td>13047.00</td>\n",
       "      <td>United Kingdom</td>\n",
       "    </tr>\n",
       "  </tbody>\n",
       "</table>\n",
       "</div>"
      ],
      "text/plain": [
       "  InvoiceNo StockCode                          Description  Quantity  \\\n",
       "0    536365    85123A   WHITE HANGING HEART T-LIGHT HOLDER         6   \n",
       "1    536365     71053                  WHITE METAL LANTERN         6   \n",
       "2    536365    84406B       CREAM CUPID HEARTS COAT HANGER         8   \n",
       "3    536365    84029G  KNITTED UNION FLAG HOT WATER BOTTLE         6   \n",
       "4    536365    84029E       RED WOOLLY HOTTIE WHITE HEART.         6   \n",
       "5    536365     22752         SET 7 BABUSHKA NESTING BOXES         2   \n",
       "6    536365     21730    GLASS STAR FROSTED T-LIGHT HOLDER         6   \n",
       "7    536366     22633               HAND WARMER UNION JACK         6   \n",
       "8    536366     22632            HAND WARMER RED POLKA DOT         6   \n",
       "9    536367     84879        ASSORTED COLOUR BIRD ORNAMENT        32   \n",
       "\n",
       "      InvoiceDate  UnitPrice  CustomerID         Country  \n",
       "0  12/1/2010 8:26       2.55    17850.00  United Kingdom  \n",
       "1  12/1/2010 8:26       3.39    17850.00  United Kingdom  \n",
       "2  12/1/2010 8:26       2.75    17850.00  United Kingdom  \n",
       "3  12/1/2010 8:26       3.39    17850.00  United Kingdom  \n",
       "4  12/1/2010 8:26       3.39    17850.00  United Kingdom  \n",
       "5  12/1/2010 8:26       7.65    17850.00  United Kingdom  \n",
       "6  12/1/2010 8:26       4.25    17850.00  United Kingdom  \n",
       "7  12/1/2010 8:28       1.85    17850.00  United Kingdom  \n",
       "8  12/1/2010 8:28       1.85    17850.00  United Kingdom  \n",
       "9  12/1/2010 8:34       1.69    13047.00  United Kingdom  "
      ]
     },
     "execution_count": 35,
     "metadata": {},
     "output_type": "execute_result"
    }
   ],
   "source": [
    "data=pd.read_csv('data.csv',encoding= 'unicode_escape')\n",
    "data.head(10)"
   ]
  },
  {
   "attachments": {},
   "cell_type": "markdown",
   "id": "67692c5c",
   "metadata": {},
   "source": [
    "### Informacion sobre los datos"
   ]
  },
  {
   "cell_type": "code",
   "execution_count": 36,
   "id": "aa7353d4",
   "metadata": {},
   "outputs": [
    {
     "name": "stdout",
     "output_type": "stream",
     "text": [
      "<class 'pandas.core.frame.DataFrame'>\n",
      "RangeIndex: 541909 entries, 0 to 541908\n",
      "Data columns (total 8 columns):\n",
      " #   Column       Non-Null Count   Dtype  \n",
      "---  ------       --------------   -----  \n",
      " 0   InvoiceNo    541909 non-null  object \n",
      " 1   StockCode    541909 non-null  object \n",
      " 2   Description  540455 non-null  object \n",
      " 3   Quantity     541909 non-null  int64  \n",
      " 4   InvoiceDate  541909 non-null  object \n",
      " 5   UnitPrice    541909 non-null  float64\n",
      " 6   CustomerID   406829 non-null  float64\n",
      " 7   Country      541909 non-null  object \n",
      "dtypes: float64(2), int64(1), object(5)\n",
      "memory usage: 33.1+ MB\n"
     ]
    }
   ],
   "source": [
    "data.info()"
   ]
  },
  {
   "attachments": {},
   "cell_type": "markdown",
   "id": "0284938d",
   "metadata": {},
   "source": [
    "### Estadísticas sobre los datos"
   ]
  },
  {
   "cell_type": "code",
   "execution_count": 37,
   "id": "dd810c42",
   "metadata": {},
   "outputs": [
    {
     "data": {
      "text/html": [
       "<div>\n",
       "<style scoped>\n",
       "    .dataframe tbody tr th:only-of-type {\n",
       "        vertical-align: middle;\n",
       "    }\n",
       "\n",
       "    .dataframe tbody tr th {\n",
       "        vertical-align: top;\n",
       "    }\n",
       "\n",
       "    .dataframe thead th {\n",
       "        text-align: right;\n",
       "    }\n",
       "</style>\n",
       "<table border=\"1\" class=\"dataframe\">\n",
       "  <thead>\n",
       "    <tr style=\"text-align: right;\">\n",
       "      <th></th>\n",
       "      <th>Quantity</th>\n",
       "      <th>UnitPrice</th>\n",
       "      <th>CustomerID</th>\n",
       "    </tr>\n",
       "  </thead>\n",
       "  <tbody>\n",
       "    <tr>\n",
       "      <th>count</th>\n",
       "      <td>541909.00</td>\n",
       "      <td>541909.00</td>\n",
       "      <td>406829.00</td>\n",
       "    </tr>\n",
       "    <tr>\n",
       "      <th>mean</th>\n",
       "      <td>9.55</td>\n",
       "      <td>4.61</td>\n",
       "      <td>15287.69</td>\n",
       "    </tr>\n",
       "    <tr>\n",
       "      <th>std</th>\n",
       "      <td>218.08</td>\n",
       "      <td>96.76</td>\n",
       "      <td>1713.60</td>\n",
       "    </tr>\n",
       "    <tr>\n",
       "      <th>min</th>\n",
       "      <td>-80995.00</td>\n",
       "      <td>-11062.06</td>\n",
       "      <td>12346.00</td>\n",
       "    </tr>\n",
       "    <tr>\n",
       "      <th>25%</th>\n",
       "      <td>1.00</td>\n",
       "      <td>1.25</td>\n",
       "      <td>13953.00</td>\n",
       "    </tr>\n",
       "    <tr>\n",
       "      <th>50%</th>\n",
       "      <td>3.00</td>\n",
       "      <td>2.08</td>\n",
       "      <td>15152.00</td>\n",
       "    </tr>\n",
       "    <tr>\n",
       "      <th>75%</th>\n",
       "      <td>10.00</td>\n",
       "      <td>4.13</td>\n",
       "      <td>16791.00</td>\n",
       "    </tr>\n",
       "    <tr>\n",
       "      <th>max</th>\n",
       "      <td>80995.00</td>\n",
       "      <td>38970.00</td>\n",
       "      <td>18287.00</td>\n",
       "    </tr>\n",
       "  </tbody>\n",
       "</table>\n",
       "</div>"
      ],
      "text/plain": [
       "       Quantity  UnitPrice  CustomerID\n",
       "count 541909.00  541909.00   406829.00\n",
       "mean       9.55       4.61    15287.69\n",
       "std      218.08      96.76     1713.60\n",
       "min   -80995.00  -11062.06    12346.00\n",
       "25%        1.00       1.25    13953.00\n",
       "50%        3.00       2.08    15152.00\n",
       "75%       10.00       4.13    16791.00\n",
       "max    80995.00   38970.00    18287.00"
      ]
     },
     "execution_count": 37,
     "metadata": {},
     "output_type": "execute_result"
    }
   ],
   "source": [
    "data.describe()"
   ]
  },
  {
   "cell_type": "code",
   "execution_count": 45,
   "id": "d4314e4a",
   "metadata": {},
   "outputs": [
    {
     "data": {
      "text/plain": [
       "<bound method IndexOpsMixin.tolist of 141       C536379\n",
       "154       C536383\n",
       "235       C536391\n",
       "236       C536391\n",
       "237       C536391\n",
       "           ...   \n",
       "540449    C581490\n",
       "541541    C581499\n",
       "541715    C581568\n",
       "541716    C581569\n",
       "541717    C581569\n",
       "Name: InvoiceNo, Length: 9288, dtype: object>"
      ]
     },
     "execution_count": 45,
     "metadata": {},
     "output_type": "execute_result"
    }
   ],
   "source": [
    "df_invoice = data\n",
    "df_invoice = df_invoice[df_invoice['InvoiceNo'].str.startswith('C')]\n",
    "delete_this_invoice = df_invoice['InvoiceNo'].tolist\n",
    "delete_this_invoice "
   ]
  },
  {
   "cell_type": "code",
   "execution_count": 47,
   "id": "d2dd5fe4",
   "metadata": {},
   "outputs": [
    {
     "data": {
      "text/plain": [
       "<bound method IndexOpsMixin.tolist of 141       C536379\n",
       "154       C536383\n",
       "235       C536391\n",
       "236       C536391\n",
       "237       C536391\n",
       "           ...   \n",
       "540449    C581490\n",
       "541541    C581499\n",
       "541715    C581568\n",
       "541716    C581569\n",
       "541717    C581569\n",
       "Name: InvoiceNo, Length: 9288, dtype: object>"
      ]
     },
     "execution_count": 47,
     "metadata": {},
     "output_type": "execute_result"
    }
   ],
   "source": [
    "delete_this_invoice"
   ]
  },
  {
   "attachments": {},
   "cell_type": "markdown",
   "id": "60258159",
   "metadata": {},
   "source": [
    "### Devoluciones de productos \n",
    "Los datos negativos son devoluciones de productos y se identifican a través de la letra \"C\" en el comienzo del código de la columna \"InvoiceNo\". Estos valores afectan a cualquier tipo de análisis acumulado que se quiera realizar, por lo que asumiendo que tienen una causa y no afectan, se decide eliminarlos. "
   ]
  },
  {
   "cell_type": "code",
   "execution_count": 39,
   "id": "6b8177f9",
   "metadata": {},
   "outputs": [
    {
     "data": {
      "application/vnd.plotly.v1+json": {
       "config": {
        "plotlyServerURL": "https://plot.ly"
       },
       "data": [
        {
         "domain": {
          "x": [
           0,
           1
          ],
          "y": [
           0,
           1
          ]
         },
         "hovertemplate": "label=%{label}<br>value=%{value}<extra></extra>",
         "labels": [
          "Not Canceled",
          "Canceled"
         ],
         "legendgroup": "",
         "name": "",
         "showlegend": true,
         "type": "pie",
         "values": [
          532621,
          9288
         ]
        }
       ],
       "layout": {
        "legend": {
         "tracegroupgap": 0
        },
        "template": {
         "data": {
          "bar": [
           {
            "error_x": {
             "color": "#2a3f5f"
            },
            "error_y": {
             "color": "#2a3f5f"
            },
            "marker": {
             "line": {
              "color": "#E5ECF6",
              "width": 0.5
             },
             "pattern": {
              "fillmode": "overlay",
              "size": 10,
              "solidity": 0.2
             }
            },
            "type": "bar"
           }
          ],
          "barpolar": [
           {
            "marker": {
             "line": {
              "color": "#E5ECF6",
              "width": 0.5
             },
             "pattern": {
              "fillmode": "overlay",
              "size": 10,
              "solidity": 0.2
             }
            },
            "type": "barpolar"
           }
          ],
          "carpet": [
           {
            "aaxis": {
             "endlinecolor": "#2a3f5f",
             "gridcolor": "white",
             "linecolor": "white",
             "minorgridcolor": "white",
             "startlinecolor": "#2a3f5f"
            },
            "baxis": {
             "endlinecolor": "#2a3f5f",
             "gridcolor": "white",
             "linecolor": "white",
             "minorgridcolor": "white",
             "startlinecolor": "#2a3f5f"
            },
            "type": "carpet"
           }
          ],
          "choropleth": [
           {
            "colorbar": {
             "outlinewidth": 0,
             "ticks": ""
            },
            "type": "choropleth"
           }
          ],
          "contour": [
           {
            "colorbar": {
             "outlinewidth": 0,
             "ticks": ""
            },
            "colorscale": [
             [
              0,
              "#0d0887"
             ],
             [
              0.1111111111111111,
              "#46039f"
             ],
             [
              0.2222222222222222,
              "#7201a8"
             ],
             [
              0.3333333333333333,
              "#9c179e"
             ],
             [
              0.4444444444444444,
              "#bd3786"
             ],
             [
              0.5555555555555556,
              "#d8576b"
             ],
             [
              0.6666666666666666,
              "#ed7953"
             ],
             [
              0.7777777777777778,
              "#fb9f3a"
             ],
             [
              0.8888888888888888,
              "#fdca26"
             ],
             [
              1,
              "#f0f921"
             ]
            ],
            "type": "contour"
           }
          ],
          "contourcarpet": [
           {
            "colorbar": {
             "outlinewidth": 0,
             "ticks": ""
            },
            "type": "contourcarpet"
           }
          ],
          "heatmap": [
           {
            "colorbar": {
             "outlinewidth": 0,
             "ticks": ""
            },
            "colorscale": [
             [
              0,
              "#0d0887"
             ],
             [
              0.1111111111111111,
              "#46039f"
             ],
             [
              0.2222222222222222,
              "#7201a8"
             ],
             [
              0.3333333333333333,
              "#9c179e"
             ],
             [
              0.4444444444444444,
              "#bd3786"
             ],
             [
              0.5555555555555556,
              "#d8576b"
             ],
             [
              0.6666666666666666,
              "#ed7953"
             ],
             [
              0.7777777777777778,
              "#fb9f3a"
             ],
             [
              0.8888888888888888,
              "#fdca26"
             ],
             [
              1,
              "#f0f921"
             ]
            ],
            "type": "heatmap"
           }
          ],
          "heatmapgl": [
           {
            "colorbar": {
             "outlinewidth": 0,
             "ticks": ""
            },
            "colorscale": [
             [
              0,
              "#0d0887"
             ],
             [
              0.1111111111111111,
              "#46039f"
             ],
             [
              0.2222222222222222,
              "#7201a8"
             ],
             [
              0.3333333333333333,
              "#9c179e"
             ],
             [
              0.4444444444444444,
              "#bd3786"
             ],
             [
              0.5555555555555556,
              "#d8576b"
             ],
             [
              0.6666666666666666,
              "#ed7953"
             ],
             [
              0.7777777777777778,
              "#fb9f3a"
             ],
             [
              0.8888888888888888,
              "#fdca26"
             ],
             [
              1,
              "#f0f921"
             ]
            ],
            "type": "heatmapgl"
           }
          ],
          "histogram": [
           {
            "marker": {
             "pattern": {
              "fillmode": "overlay",
              "size": 10,
              "solidity": 0.2
             }
            },
            "type": "histogram"
           }
          ],
          "histogram2d": [
           {
            "colorbar": {
             "outlinewidth": 0,
             "ticks": ""
            },
            "colorscale": [
             [
              0,
              "#0d0887"
             ],
             [
              0.1111111111111111,
              "#46039f"
             ],
             [
              0.2222222222222222,
              "#7201a8"
             ],
             [
              0.3333333333333333,
              "#9c179e"
             ],
             [
              0.4444444444444444,
              "#bd3786"
             ],
             [
              0.5555555555555556,
              "#d8576b"
             ],
             [
              0.6666666666666666,
              "#ed7953"
             ],
             [
              0.7777777777777778,
              "#fb9f3a"
             ],
             [
              0.8888888888888888,
              "#fdca26"
             ],
             [
              1,
              "#f0f921"
             ]
            ],
            "type": "histogram2d"
           }
          ],
          "histogram2dcontour": [
           {
            "colorbar": {
             "outlinewidth": 0,
             "ticks": ""
            },
            "colorscale": [
             [
              0,
              "#0d0887"
             ],
             [
              0.1111111111111111,
              "#46039f"
             ],
             [
              0.2222222222222222,
              "#7201a8"
             ],
             [
              0.3333333333333333,
              "#9c179e"
             ],
             [
              0.4444444444444444,
              "#bd3786"
             ],
             [
              0.5555555555555556,
              "#d8576b"
             ],
             [
              0.6666666666666666,
              "#ed7953"
             ],
             [
              0.7777777777777778,
              "#fb9f3a"
             ],
             [
              0.8888888888888888,
              "#fdca26"
             ],
             [
              1,
              "#f0f921"
             ]
            ],
            "type": "histogram2dcontour"
           }
          ],
          "mesh3d": [
           {
            "colorbar": {
             "outlinewidth": 0,
             "ticks": ""
            },
            "type": "mesh3d"
           }
          ],
          "parcoords": [
           {
            "line": {
             "colorbar": {
              "outlinewidth": 0,
              "ticks": ""
             }
            },
            "type": "parcoords"
           }
          ],
          "pie": [
           {
            "automargin": true,
            "type": "pie"
           }
          ],
          "scatter": [
           {
            "fillpattern": {
             "fillmode": "overlay",
             "size": 10,
             "solidity": 0.2
            },
            "type": "scatter"
           }
          ],
          "scatter3d": [
           {
            "line": {
             "colorbar": {
              "outlinewidth": 0,
              "ticks": ""
             }
            },
            "marker": {
             "colorbar": {
              "outlinewidth": 0,
              "ticks": ""
             }
            },
            "type": "scatter3d"
           }
          ],
          "scattercarpet": [
           {
            "marker": {
             "colorbar": {
              "outlinewidth": 0,
              "ticks": ""
             }
            },
            "type": "scattercarpet"
           }
          ],
          "scattergeo": [
           {
            "marker": {
             "colorbar": {
              "outlinewidth": 0,
              "ticks": ""
             }
            },
            "type": "scattergeo"
           }
          ],
          "scattergl": [
           {
            "marker": {
             "colorbar": {
              "outlinewidth": 0,
              "ticks": ""
             }
            },
            "type": "scattergl"
           }
          ],
          "scattermapbox": [
           {
            "marker": {
             "colorbar": {
              "outlinewidth": 0,
              "ticks": ""
             }
            },
            "type": "scattermapbox"
           }
          ],
          "scatterpolar": [
           {
            "marker": {
             "colorbar": {
              "outlinewidth": 0,
              "ticks": ""
             }
            },
            "type": "scatterpolar"
           }
          ],
          "scatterpolargl": [
           {
            "marker": {
             "colorbar": {
              "outlinewidth": 0,
              "ticks": ""
             }
            },
            "type": "scatterpolargl"
           }
          ],
          "scatterternary": [
           {
            "marker": {
             "colorbar": {
              "outlinewidth": 0,
              "ticks": ""
             }
            },
            "type": "scatterternary"
           }
          ],
          "surface": [
           {
            "colorbar": {
             "outlinewidth": 0,
             "ticks": ""
            },
            "colorscale": [
             [
              0,
              "#0d0887"
             ],
             [
              0.1111111111111111,
              "#46039f"
             ],
             [
              0.2222222222222222,
              "#7201a8"
             ],
             [
              0.3333333333333333,
              "#9c179e"
             ],
             [
              0.4444444444444444,
              "#bd3786"
             ],
             [
              0.5555555555555556,
              "#d8576b"
             ],
             [
              0.6666666666666666,
              "#ed7953"
             ],
             [
              0.7777777777777778,
              "#fb9f3a"
             ],
             [
              0.8888888888888888,
              "#fdca26"
             ],
             [
              1,
              "#f0f921"
             ]
            ],
            "type": "surface"
           }
          ],
          "table": [
           {
            "cells": {
             "fill": {
              "color": "#EBF0F8"
             },
             "line": {
              "color": "white"
             }
            },
            "header": {
             "fill": {
              "color": "#C8D4E3"
             },
             "line": {
              "color": "white"
             }
            },
            "type": "table"
           }
          ]
         },
         "layout": {
          "annotationdefaults": {
           "arrowcolor": "#2a3f5f",
           "arrowhead": 0,
           "arrowwidth": 1
          },
          "autotypenumbers": "strict",
          "coloraxis": {
           "colorbar": {
            "outlinewidth": 0,
            "ticks": ""
           }
          },
          "colorscale": {
           "diverging": [
            [
             0,
             "#8e0152"
            ],
            [
             0.1,
             "#c51b7d"
            ],
            [
             0.2,
             "#de77ae"
            ],
            [
             0.3,
             "#f1b6da"
            ],
            [
             0.4,
             "#fde0ef"
            ],
            [
             0.5,
             "#f7f7f7"
            ],
            [
             0.6,
             "#e6f5d0"
            ],
            [
             0.7,
             "#b8e186"
            ],
            [
             0.8,
             "#7fbc41"
            ],
            [
             0.9,
             "#4d9221"
            ],
            [
             1,
             "#276419"
            ]
           ],
           "sequential": [
            [
             0,
             "#0d0887"
            ],
            [
             0.1111111111111111,
             "#46039f"
            ],
            [
             0.2222222222222222,
             "#7201a8"
            ],
            [
             0.3333333333333333,
             "#9c179e"
            ],
            [
             0.4444444444444444,
             "#bd3786"
            ],
            [
             0.5555555555555556,
             "#d8576b"
            ],
            [
             0.6666666666666666,
             "#ed7953"
            ],
            [
             0.7777777777777778,
             "#fb9f3a"
            ],
            [
             0.8888888888888888,
             "#fdca26"
            ],
            [
             1,
             "#f0f921"
            ]
           ],
           "sequentialminus": [
            [
             0,
             "#0d0887"
            ],
            [
             0.1111111111111111,
             "#46039f"
            ],
            [
             0.2222222222222222,
             "#7201a8"
            ],
            [
             0.3333333333333333,
             "#9c179e"
            ],
            [
             0.4444444444444444,
             "#bd3786"
            ],
            [
             0.5555555555555556,
             "#d8576b"
            ],
            [
             0.6666666666666666,
             "#ed7953"
            ],
            [
             0.7777777777777778,
             "#fb9f3a"
            ],
            [
             0.8888888888888888,
             "#fdca26"
            ],
            [
             1,
             "#f0f921"
            ]
           ]
          },
          "colorway": [
           "#636efa",
           "#EF553B",
           "#00cc96",
           "#ab63fa",
           "#FFA15A",
           "#19d3f3",
           "#FF6692",
           "#B6E880",
           "#FF97FF",
           "#FECB52"
          ],
          "font": {
           "color": "#2a3f5f"
          },
          "geo": {
           "bgcolor": "white",
           "lakecolor": "white",
           "landcolor": "#E5ECF6",
           "showlakes": true,
           "showland": true,
           "subunitcolor": "white"
          },
          "hoverlabel": {
           "align": "left"
          },
          "hovermode": "closest",
          "mapbox": {
           "style": "light"
          },
          "paper_bgcolor": "white",
          "plot_bgcolor": "#E5ECF6",
          "polar": {
           "angularaxis": {
            "gridcolor": "white",
            "linecolor": "white",
            "ticks": ""
           },
           "bgcolor": "#E5ECF6",
           "radialaxis": {
            "gridcolor": "white",
            "linecolor": "white",
            "ticks": ""
           }
          },
          "scene": {
           "xaxis": {
            "backgroundcolor": "#E5ECF6",
            "gridcolor": "white",
            "gridwidth": 2,
            "linecolor": "white",
            "showbackground": true,
            "ticks": "",
            "zerolinecolor": "white"
           },
           "yaxis": {
            "backgroundcolor": "#E5ECF6",
            "gridcolor": "white",
            "gridwidth": 2,
            "linecolor": "white",
            "showbackground": true,
            "ticks": "",
            "zerolinecolor": "white"
           },
           "zaxis": {
            "backgroundcolor": "#E5ECF6",
            "gridcolor": "white",
            "gridwidth": 2,
            "linecolor": "white",
            "showbackground": true,
            "ticks": "",
            "zerolinecolor": "white"
           }
          },
          "shapedefaults": {
           "line": {
            "color": "#2a3f5f"
           }
          },
          "ternary": {
           "aaxis": {
            "gridcolor": "white",
            "linecolor": "white",
            "ticks": ""
           },
           "baxis": {
            "gridcolor": "white",
            "linecolor": "white",
            "ticks": ""
           },
           "bgcolor": "#E5ECF6",
           "caxis": {
            "gridcolor": "white",
            "linecolor": "white",
            "ticks": ""
           }
          },
          "title": {
           "x": 0.05
          },
          "xaxis": {
           "automargin": true,
           "gridcolor": "white",
           "linecolor": "white",
           "ticks": "",
           "title": {
            "standoff": 15
           },
           "zerolinecolor": "white",
           "zerolinewidth": 2
          },
          "yaxis": {
           "automargin": true,
           "gridcolor": "white",
           "linecolor": "white",
           "ticks": "",
           "title": {
            "standoff": 15
           },
           "zerolinecolor": "white",
           "zerolinewidth": 2
          }
         }
        },
        "title": {
         "text": "Orders Cancelation"
        }
       }
      }
     },
     "metadata": {},
     "output_type": "display_data"
    }
   ],
   "source": [
    "cancelled = pd.Series(np.where(data.InvoiceNo.apply(lambda x: x[0]==\"C\"), 'Canceled', 'Not Canceled'))\n",
    "\n",
    "fig = px.pie(values=cancelled.value_counts(), names=cancelled.value_counts().index, title='Orders Cancelation')\n",
    "fig.show()\n",
    "\n"
   ]
  },
  {
   "attachments": {},
   "cell_type": "markdown",
   "id": "5a489628",
   "metadata": {},
   "source": [
    "Pero previo a realizarlo, se analizará si existen otros outliers y si es razonable eliminarlos."
   ]
  },
  {
   "cell_type": "code",
   "execution_count": 40,
   "id": "79c0d697",
   "metadata": {},
   "outputs": [
    {
     "data": {
      "text/plain": [
       "<Axes: >"
      ]
     },
     "execution_count": 40,
     "metadata": {},
     "output_type": "execute_result"
    },
    {
     "data": {
      "image/png": "[encoded data removed]",
      "text/plain": [
       "<Figure size 1080x504 with 1 Axes>"
      ]
     },
     "metadata": {},
     "output_type": "display_data"
    }
   ],
   "source": [
    "data[['Quantity','UnitPrice']].boxplot(figsize=(15,7))"
   ]
  },
  {
   "attachments": {},
   "cell_type": "markdown",
   "id": "810fd096",
   "metadata": {},
   "source": [
    "Es posible visualizar que existen outlier cuanto a cantidad como a precio por unidad. En la cantidad, se ve que los valores negativos con los positivos se cancelan, por lo que es posible pensar en que fue una venta mal digitada y posteriorme se canceló con una venta negativa por la misma cantidad. Además existe un precio que alcanza los $40.000 y se escapa mucho de la concentración de precios, por lo que se eliminará junto con el precio negativo."
   ]
  },
  {
   "cell_type": "code",
   "execution_count": 41,
   "id": "a7f47015",
   "metadata": {},
   "outputs": [],
   "source": [
    "def remove_outliers(column):\n",
    "    Q1 = column.quantile(.25)\n",
    "    Q3 = column.quantile(.75)\n",
    "    IQR = Q3 - Q1\n",
    "    column = column[((Q1 - 1.5 * IQR) <= column) & (column  <= (Q3 + 1.5 * IQR))]\n",
    "    return column"
   ]
  },
  {
   "cell_type": "code",
   "execution_count": 42,
   "id": "426282dc",
   "metadata": {},
   "outputs": [
    {
     "data": {
      "image/png": "[encoded data removed]",
      "text/plain": [
       "<Figure size 1440x648 with 1 Axes>"
      ]
     },
     "metadata": {},
     "output_type": "display_data"
    }
   ],
   "source": [
    "data.Quantity = remove_outliers(data.Quantity)\n",
    "data.UnitPrice = remove_outliers(data.UnitPrice)\n",
    "data[['Quantity','UnitPrice']].boxplot(figsize=(20,9));\n",
    "\n"
   ]
  },
  {
   "cell_type": "code",
   "execution_count": null,
   "id": "b1b5cea3",
   "metadata": {},
   "outputs": [],
   "source": [
    "df_Datos.isnull().sum()"
   ]
  },
  {
   "cell_type": "code",
   "execution_count": null,
   "id": "cb0e905e",
   "metadata": {},
   "outputs": [],
   "source": [
    "df_Datos.info()\n"
   ]
  },
  {
   "cell_type": "markdown",
   "id": "e5fefee8",
   "metadata": {},
   "source": [
    "# Cantidad de compras:25900"
   ]
  },
  {
   "cell_type": "code",
   "execution_count": null,
   "id": "7663da22",
   "metadata": {},
   "outputs": [],
   "source": [
    "df_Datos.InvoiceNo.value_counts()"
   ]
  },
  {
   "cell_type": "markdown",
   "id": "2d0b7c7b",
   "metadata": {},
   "source": [
    "# Cantidad de clientes: 4372, Total de compras hechas por clientes"
   ]
  },
  {
   "cell_type": "code",
   "execution_count": null,
   "id": "39b7a72b",
   "metadata": {},
   "outputs": [],
   "source": [
    "df_Datos.CustomerID.value_counts()"
   ]
  },
  {
   "cell_type": "markdown",
   "id": "7caa387e",
   "metadata": {},
   "source": [
    "# Cantidad de productos: 4070 ; cantidad total vendida de cada producto(falta multiplicar por la cantidad)"
   ]
  },
  {
   "cell_type": "code",
   "execution_count": null,
   "id": "ee38d875",
   "metadata": {},
   "outputs": [],
   "source": [
    "df_Datos.StockCode.value_counts()"
   ]
  },
  {
   "cell_type": "markdown",
   "id": "88e51cf5",
   "metadata": {},
   "source": [
    "# 50 productos mas vendidos"
   ]
  },
  {
   "cell_type": "code",
   "execution_count": null,
   "id": "2e69dae6",
   "metadata": {},
   "outputs": [],
   "source": [
    "df_Datos.StockCode.value_counts().head(50)"
   ]
  },
  {
   "cell_type": "markdown",
   "id": "02679e5d",
   "metadata": {},
   "source": [
    "# Cantidad de compras hechas por pais"
   ]
  },
  {
   "cell_type": "code",
   "execution_count": null,
   "id": "e7c5cee4",
   "metadata": {},
   "outputs": [],
   "source": [
    "df_Datos.Country.value_counts()"
   ]
  },
  {
   "cell_type": "code",
   "execution_count": null,
   "id": "d353ffea",
   "metadata": {},
   "outputs": [],
   "source": [
    "df2 = df_Datos[df_Datos['Country'].isin(['United Kingdom'])]\n",
    "df2"
   ]
  },
  {
   "cell_type": "code",
   "execution_count": null,
   "id": "79814bf1",
   "metadata": {},
   "outputs": [],
   "source": [
    "df_Datos['InvoiceDate'] = pd.to_datetime(df_Datos['InvoiceDate'])"
   ]
  },
  {
   "cell_type": "code",
   "execution_count": null,
   "id": "8d88fa66",
   "metadata": {},
   "outputs": [],
   "source": [
    "df_Datos['año'] = df_Datos['InvoiceDate'].dt.year\n",
    "df_Datos['mes'] = df_Datos['InvoiceDate'].dt.month\n",
    "df_Datos['dia'] = df_Datos['InvoiceDate'].dt.day"
   ]
  },
  {
   "cell_type": "code",
   "execution_count": null,
   "id": "1310d0d2",
   "metadata": {},
   "outputs": [],
   "source": [
    "df_Datos"
   ]
  },
  {
   "cell_type": "code",
   "execution_count": null,
   "id": "90a11075",
   "metadata": {},
   "outputs": [],
   "source": [
    "Productos_unicos = df_Datos['StockCode'].unique()"
   ]
  },
  {
   "cell_type": "code",
   "execution_count": null,
   "id": "f5ad8fed",
   "metadata": {},
   "outputs": [],
   "source": [
    "df3 = df_Datos[df_Datos['StockCode'].isin(['85123A'])]\n",
    "df3"
   ]
  },
  {
   "cell_type": "code",
   "execution_count": null,
   "id": "62edbd11",
   "metadata": {},
   "outputs": [],
   "source": [
    "Total_85123A = df3['Quantity'].sum()\n",
    "Total_85123A"
   ]
  },
  {
   "cell_type": "code",
   "execution_count": null,
   "id": "9d18b9f9",
   "metadata": {},
   "outputs": [],
   "source": [
    "for i in range(len(productos_unicos)):\n",
    "    productos_unicos[i] = df_Datos\n",
    "    \n",
    "    \n",
    "    \n",
    "    for nombre, grupo in df_Datos.groupby(['StockCode\t', 'Quantity']):\n",
    "    ventas_totales = grupo['ventas'].sum()\n",
    "    print(f'{nombre}: {ventas_totales}')"
   ]
  },
  {
   "cell_type": "code",
   "execution_count": null,
   "id": "7c48ecd1",
   "metadata": {},
   "outputs": [],
   "source": [
    "Por_mes_85123A = df3.groupby(['mes'])['Quantity'].sum().reset_index().sort_values(by='mes', ascending = True)\n",
    "Por_mes_85123A\n"
   ]
  },
  {
   "cell_type": "code",
   "execution_count": null,
   "id": "963953d2",
   "metadata": {},
   "outputs": [],
   "source": [
    "Orden = [12,1,2,3,4,5,6,7,8,9,10,11]\n",
    "Por_mes_85123A['Orden'] = Orden\n",
    "Por_mes_85123A"
   ]
  },
  {
   "cell_type": "code",
   "execution_count": null,
   "id": "702358e3",
   "metadata": {},
   "outputs": [],
   "source": [
    "PM_Por_mes_85123A = Por_mes_85123A.groupby(['Orden'])['Quantity'].sum().reset_index().sort_values(by='Orden', ascending = True)\n",
    "PM_Por_mes_85123A"
   ]
  },
  {
   "cell_type": "code",
   "execution_count": null,
   "id": "6e25f5cb",
   "metadata": {},
   "outputs": [],
   "source": [
    "rolling_mean1 = PM_Por_mes_85123A.rolling(window=3).mean()\n",
    "print(rolling_mean1)"
   ]
  },
  {
   "cell_type": "code",
   "execution_count": null,
   "id": "a15be224",
   "metadata": {},
   "outputs": [],
   "source": [
    "rolling_mean = Por_mes_85123A.rolling(window=3).mean()\n",
    "print(rolling_mean)"
   ]
  },
  {
   "cell_type": "code",
   "execution_count": null,
   "id": "3ea0ab72",
   "metadata": {},
   "outputs": [],
   "source": []
  },
  {
   "cell_type": "code",
   "execution_count": null,
   "id": "a4899b3a",
   "metadata": {},
   "outputs": [],
   "source": [
    "Productos = df_Datos.groupby(['StockCode'])['Quantity'].count().reset_index().sort_values(by='Quantity', ascending = False)\n",
    "Productos.head(10)"
   ]
  },
  {
   "cell_type": "code",
   "execution_count": null,
   "id": "ca438f67",
   "metadata": {},
   "outputs": [],
   "source": [
    "df_Datos['Precio Total'] = df_Datos['Quantity']*df_Datos['UnitPrice']"
   ]
  },
  {
   "cell_type": "code",
   "execution_count": null,
   "id": "57a11534",
   "metadata": {},
   "outputs": [],
   "source": [
    "df_Datos"
   ]
  }
 ],
 "metadata": {
  "kernelspec": {
   "display_name": "Python 3 (ipykernel)",
   "language": "python",
   "name": "python3"
  },
  "language_info": {
   "codemirror_mode": {
    "name": "ipython",
    "version": 3
   },
   "file_extension": ".py",
   "mimetype": "text/x-python",
   "name": "python",
   "nbconvert_exporter": "python",
   "pygments_lexer": "ipython3",
   "version": "3.10.4"
  }
 },
 "nbformat": 4,
 "nbformat_minor": 5
}
